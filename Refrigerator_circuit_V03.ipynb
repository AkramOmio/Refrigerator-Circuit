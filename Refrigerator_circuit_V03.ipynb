{
 "cells": [
  {
   "cell_type": "code",
   "execution_count": 3,
   "id": "730eda01-b855-4061-b3bd-4a116b340f17",
   "metadata": {},
   "outputs": [],
   "source": [
    "import CoolProp.CoolProp as CP\n",
    "import numpy as np\n"
   ]
  },
  {
   "cell_type": "code",
   "execution_count": 4,
   "id": "24ccfde2-bb22-4c67-9d24-3984cdf80000",
   "metadata": {},
   "outputs": [],
   "source": [
    "def heat_transfer_coefficient(Pcon,Peva,CT_inlet,CT_outlet,AT,DT,ET,S2):\n",
    "    print('Condenser Pressure (MPa): %0.3f'%(Pcon))\n",
    "    Pcon=Pcon*1e6\n",
    "    print('Evaporator Pressure (MPa): %0.3f'%Peva)\n",
    "    Peva=Peva*1e6\n",
    "    print('Condenser Inlet Temperature (C): %0.3f'%(CT_inlet))\n",
    "    CT_inlet=CT_inlet+273\n",
    "    print('Condenser Outlet Temperature (C): %0.3f'%CT_outlet)\n",
    "    CT_outlet=CT_outlet+273\n",
    "    print('Ambient Temperature (C): %0.3f'%(AT))\n",
    "    AT=AT+273\n",
    "    print('Dryer Temperature (C): %0.3f'%(DT))\n",
    "    DT=DT+273\n",
    "    print('Evaporator Temperature (C): %0.3f'%(ET))\n",
    "    ET=ET+273\n",
    "    print('Suction Temperature (C): %0.3f'%(S2))\n",
    "    S2=S2+273\n",
    "    #print('    P-H Data   ')\n",
    "    hci=hg=CP.PropsSI('H','P',Pcon,'T',CT_inlet,'IsoButane')\n",
    "    #print('hg (KJ/Kg): %0.3f'%(hg/1e3))\n",
    "    \n",
    "    hb=hh=CP.PropsSI('H','P',Pcon,'T',DT,'IsoButane')\n",
    "    #print('hh(KJ/Kg): %0.3f'%(hh/1e3))\n",
    "    #print('hb(KJ/Kg): %0.3f'%(hb/1e3))\n",
    "    x=CP.PropsSI('Q','P',Peva,'H',hh,'IsoButane')\n",
    "    \n",
    "    x2=0.45*x    \n",
    "    #print('Ideal Dryness factor (x): %0.3f'%x)\n",
    "    #print('Modified Dryness factor (x): %0.3f'%x2)\n",
    "    ha=CP.PropsSI('H','P',Peva,'Q',x2,'IsoButane')\n",
    "    #print('ha(KJ/Kg): %0.3f'%(ha/1e3))\n",
    "    hc=CP.PropsSI('H','P',Peva,'Q',1,'IsoButane')\n",
    "    #print('hc(KJ/Kg): %0.3f'%(hc/1e3))\n",
    "    hd=CP.PropsSI('H','P',Peva,'T',S2,'IsoButane')\n",
    "    #print('hd(KJ/Kg): %0.3f'%(hd/1e3))\n",
    "    #Condenser heat Radiation\n",
    "    Hc=hg-hh\n",
    "    #Evaporator heat absorption\n",
    "    He=hc-ha\n",
    "    Rce=Hc/He\n",
    "    #print('Rce: %0.3f'%Rce)\n",
    "    # Calculation condenser Kc\n",
    "    Lc=23.22 \n",
    "    G=1.122\n",
    "    qe=(hd-hh)/1e3\n",
    "    qc_back=qe*Rce\n",
    "    #print('Condenser heat radiation (kj/kg) back: %0.3f'%qc_back)\n",
    "    qc_forward=(hg-hh)/1e3\n",
    "    #print('Condenser heat radiation (kj/kg) forward: %0.3f'%qc_forward)\n",
    "    Qc=((qc_back*1e3)/3600)*G\n",
    "    #print('Condenser Heat Radiation (w): %0.3f'%Qc)\n",
    "    Kc=Qc/(Lc*(CT_outlet-AT))\n",
    "    print('Kc: %0.3f'%Kc)\n",
    "    \n",
    "    # Colculation of Ke\n",
    "    Qe=((qe*1e3)/3600)*G\n",
    "    Eva_in=-29.9\n",
    "    Eva_out=-28.8\n",
    "    Eva=(Eva_in+Eva_out)/2\n",
    "    PC=-1.6\n",
    "    FC=-27.3\n",
    "    Lfc=15.54\n",
    "    Lpc=1.30\n",
    "    Ke=Qe/((Lfc*(FC-Eva))+(Lpc*(PC-Eva)))\n",
    "    print('Ke: %0.3f'%Ke)\n",
    "    return Kc,Ke,Qe,Rce,Eva\n",
    "            "
   ]
  },
  {
   "cell_type": "code",
   "execution_count": 6,
   "id": "484143a6-d18f-476a-a63a-b1bf9c1bfdab",
   "metadata": {},
   "outputs": [],
   "source": [
    "Pcon=0.6\n",
    "Peva=0.045\n",
    "CT_inlet=89.3\n",
    "CT_outlet=CP.PropsSI('T','P',Pcon*1e6,'Q',0,'IsoButane')\n",
    "CT_outlet=CT_outlet-273\n",
    "AT=38\n",
    "dt=2\n",
    "DT=CT_outlet-2\n",
    "ET=-25\n",
    "S2=37.2"
   ]
  },
  {
   "cell_type": "code",
   "execution_count": 7,
   "id": "d220205c-92d4-4601-8645-d139de580818",
   "metadata": {
    "scrolled": true
   },
   "outputs": [
    {
     "name": "stdout",
     "output_type": "stream",
     "text": [
      "Condenser Pressure (MPa): 0.600\n",
      "Evaporator Pressure (MPa): 0.045\n",
      "Condenser Inlet Temperature (C): 89.300\n",
      "Condenser Outlet Temperature (C): 44.860\n",
      "Ambient Temperature (C): 38.000\n",
      "Dryer Temperature (C): 42.860\n",
      "Evaporator Temperature (C): -25.000\n",
      "Suction Temperature (C): 37.200\n",
      "Kc: 0.816\n",
      "Ke: 1.456\n"
     ]
    }
   ],
   "source": [
    "Kc,Ke,Qe,Rce,Eva=heat_transfer_coefficient(Pcon,Peva,CT_inlet,CT_outlet,AT,DT,ET,S2)"
   ]
  },
  {
   "cell_type": "code",
   "execution_count": 131,
   "id": "2e854dd4-bcce-4514-91ad-c93d2b9c7c10",
   "metadata": {},
   "outputs": [
    {
     "data": {
      "text/plain": [
       "1.5199695306747303"
      ]
     },
     "execution_count": 131,
     "metadata": {},
     "output_type": "execute_result"
    }
   ],
   "source": [
    "Ke"
   ]
  },
  {
   "cell_type": "code",
   "execution_count": 132,
   "id": "937eb824-3ddd-4cf7-b154-3b68507ab16f",
   "metadata": {
    "scrolled": true
   },
   "outputs": [
    {
     "name": "stdout",
     "output_type": "stream",
     "text": [
      "FC cabinet Volume (L): 114.00\n",
      "PC cabinet Volume (L): 130.00\n",
      "FC cabinet Volume (w): 96.00\n",
      "PC cabinet Volume (w): 53.00\n",
      "FC cabinet Temperature (C): -27.30\n",
      "PC cabinet Temperature (C): -1.60\n"
     ]
    }
   ],
   "source": [
    "V_FC=114\n",
    "print('FC cabinet Volume (L): %0.2f'%V_FC)\n",
    "V_PC=130\n",
    "print('PC cabinet Volume (L): %0.2f'%V_PC)\n",
    "Q_FC=96\n",
    "print('FC cabinet Volume (w): %0.2f'%Q_FC)\n",
    "Q_PC=53\n",
    "print('PC cabinet Volume (w): %0.2f'%Q_PC)\n",
    "Qe=Q_FC+Q_PC\n",
    "Temp_FC=-27.3\n",
    "Temp_PC=-1.6\n",
    "print('FC cabinet Temperature (C): %0.2f'%Temp_FC)\n",
    "print('PC cabinet Temperature (C): %0.2f'%Temp_PC)\n"
   ]
  },
  {
   "cell_type": "code",
   "execution_count": 133,
   "id": "e9622712-0b5e-4b75-8241-7c296d04d4f7",
   "metadata": {},
   "outputs": [],
   "source": [
    "def length_calculation(V_FC,V_PC,Q_FC,Q_PC,Temp_FC,Temp_PC,Kc,Ke,Qe,Rce,CT_outlet):\n",
    "    Cfc=5.91\n",
    "    Cpc=4.18\n",
    "    Qd=Cfc*(V_FC**0.5)+Cpc*(V_PC**0.5)\n",
    "    Q1=1   #Insulation\n",
    "    Q2=1 #Gasket\n",
    "    Q3=1 #Inner condenser\n",
    "    Q4=1 #Rail tube\n",
    "    #Qs=Q1+Q2+Q3+Q4\n",
    "    Qs=Qe-Qd\n",
    "    Qe=Qs+Qd\n",
    "    print('Total load (w): %0.3f'%Qe)\n",
    "    print('Static load (w): %0.3f '%Qs)\n",
    "    print('Dynamic load (w): %0.3f'%Qd)\n",
    "    \n",
    "    Qc=Qe*Rce\n",
    "    Lc_cal=(Qc)/(Kc*(CT_outlet-AT))\n",
    "    print('Condenser Length (m): %0.3f'%Lc_cal)\n",
    "    Lfc_cal=Q_FC/(Ke*(Temp_FC-Eva))\n",
    "    print('Evaporator length for FC (m): %0.3f'%Lfc_cal)\n",
    "    Lpc_cal=Q_PC/(Ke*(Temp_PC-Eva))\n",
    "    print('Evaporator length for PC (m): %0.3f'%Lpc_cal)"
   ]
  },
  {
   "cell_type": "code",
   "execution_count": 134,
   "id": "fc232905-25f5-4338-86be-30b118542175",
   "metadata": {},
   "outputs": [
    {
     "name": "stdout",
     "output_type": "stream",
     "text": [
      "Total load (w): 149.000\n",
      "Static load (w): 38.239 \n",
      "Dynamic load (w): 110.761\n",
      "Condenser Length (m): 33.507\n",
      "Evaporator length for FC (m): 30.809\n",
      "Evaporator length for PC (m): 1.257\n"
     ]
    }
   ],
   "source": [
    "length_calculation(V_FC,V_PC,Q_FC,Q_PC,Temp_FC,Temp_PC,Kc,Ke,Qe,Rce,CT_outlet)"
   ]
  }
 ],
 "metadata": {
  "kernelspec": {
   "display_name": "Python 3 (ipykernel)",
   "language": "python",
   "name": "python3"
  },
  "language_info": {
   "codemirror_mode": {
    "name": "ipython",
    "version": 3
   },
   "file_extension": ".py",
   "mimetype": "text/x-python",
   "name": "python",
   "nbconvert_exporter": "python",
   "pygments_lexer": "ipython3",
   "version": "3.11.7"
  }
 },
 "nbformat": 4,
 "nbformat_minor": 5
}
